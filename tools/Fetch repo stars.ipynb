{
 "cells": [
  {
   "cell_type": "markdown",
   "metadata": {},
   "source": [
    "# Sort Github repositories by stars"
   ]
  },
  {
   "cell_type": "code",
   "execution_count": 13,
   "metadata": {},
   "outputs": [],
   "source": [
    "repo_stars = '''cavaliercoder/badio 7\n",
    "h2non/baloo 502\n",
    "fulldump/biff 2\n",
    "marioidival/bro 20\n",
    "bradleyjkemp/cupaloy 49\n",
    "khaiql/dbcleaner 37\n",
    "viant/dsunit 17\n",
    "viant/endly 35\n",
    "verdverm/frisby 228\n",
    "msoap/go-carpet 179\n",
    "zimmski/go-mutesting 146\n",
    "dnaeon/go-vcr 206\n",
    "franela/goblin 512\n",
    "smartystreets/goconvey 3685\n",
    "corbym/gocrest 6\n",
    "DATA-DOG/godog 404\n",
    "appleboy/gofight 170\n",
    "corbym/gogiven 6\n",
    "orfjackal/gospec 109\n",
    "stesla/gospecify 49\n",
    "pavlo/gosuite 5\n",
    "rdrdr/hamcrest 23\n",
    "gavv/httpexpect 884\n",
    "yookoala/restit 45\n",
    "go-testfixtures/testfixtures 180\n",
    "stretchr/testify 5251\n",
    "vcaesar/tt 1\n",
    "posener/wstest 37\n",
    "go-check/check 387\n",
    "onsi/gomega 709\n",
    "onsi/ginkgo 2166\n",
    "go-playground/assert 9\n",
    "google/go-cmp 575\n",
    "maxbrunsfeld/counterfeiter 242\n",
    "DATA-DOG/go-sqlmock 902\n",
    "DATA-DOG/go-txdb 64\n",
    "h2non/gock 496\n",
    "golang/mock 1452\n",
    "seborama/govcr 32\n",
    "gojuno/minimock 128\n",
    "tv42/mockhttp 20'''"
   ]
  },
  {
   "cell_type": "code",
   "execution_count": 16,
   "metadata": {},
   "outputs": [
    {
     "name": "stdout",
     "output_type": "stream",
     "text": [
      "5251\tstretchr/testify\n",
      "3685\tsmartystreets/goconvey\n",
      "2166\tonsi/ginkgo\n",
      "1452\tgolang/mock\n",
      "902\tDATA-DOG/go-sqlmock\n",
      "884\tgavv/httpexpect\n",
      "709\tonsi/gomega\n",
      "575\tgoogle/go-cmp\n",
      "512\tfranela/goblin\n",
      "502\th2non/baloo\n",
      "496\th2non/gock\n",
      "404\tDATA-DOG/godog\n",
      "387\tgo-check/check\n",
      "242\tmaxbrunsfeld/counterfeiter\n",
      "228\tverdverm/frisby\n",
      "206\tdnaeon/go-vcr\n",
      "180\tgo-testfixtures/testfixtures\n",
      "179\tmsoap/go-carpet\n",
      "170\tappleboy/gofight\n",
      "146\tzimmski/go-mutesting\n",
      "128\tgojuno/minimock\n",
      "109\torfjackal/gospec\n",
      "64\tDATA-DOG/go-txdb\n",
      "49\tstesla/gospecify\n",
      "49\tbradleyjkemp/cupaloy\n",
      "45\tyookoala/restit\n",
      "37\tposener/wstest\n",
      "37\tkhaiql/dbcleaner\n",
      "35\tviant/endly\n",
      "32\tseborama/govcr\n",
      "23\trdrdr/hamcrest\n",
      "20\ttv42/mockhttp\n",
      "20\tmarioidival/bro\n",
      "17\tviant/dsunit\n",
      "9\tgo-playground/assert\n",
      "7\tcavaliercoder/badio\n",
      "6\tcorbym/gogiven\n",
      "6\tcorbym/gocrest\n",
      "5\tpavlo/gosuite\n",
      "2\tfulldump/biff\n",
      "1\tvcaesar/tt\n"
     ]
    }
   ],
   "source": [
    "repos = []\n",
    "for lin in repo_stars.split('\\n'):\n",
    "    repo, stars = lin.split()\n",
    "    repos.append((int(stars), repo))\n",
    "for stars, repo in sorted(repos, reverse=True):\n",
    "    print(stars, repo, sep='\\t')"
   ]
  },
  {
   "cell_type": "code",
   "execution_count": null,
   "metadata": {},
   "outputs": [],
   "source": []
  }
 ],
 "metadata": {
  "kernelspec": {
   "display_name": "Python 3",
   "language": "python",
   "name": "python3"
  },
  "language_info": {
   "codemirror_mode": {
    "name": "ipython",
    "version": 3
   },
   "file_extension": ".py",
   "mimetype": "text/x-python",
   "name": "python",
   "nbconvert_exporter": "python",
   "pygments_lexer": "ipython3",
   "version": "3.6.5"
  }
 },
 "nbformat": 4,
 "nbformat_minor": 2
}
